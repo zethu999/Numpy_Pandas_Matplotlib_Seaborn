{
  "nbformat": 4,
  "nbformat_minor": 0,
  "metadata": {
    "colab": {
      "provenance": []
    },
    "kernelspec": {
      "name": "python3",
      "display_name": "Python 3"
    },
    "language_info": {
      "name": "python"
    }
  },
  "cells": [
    {
      "cell_type": "code",
      "execution_count": 1,
      "metadata": {
        "id": "2MTf5CSHBg0s"
      },
      "outputs": [],
      "source": [
        "import numpy as np"
      ]
    },
    {
      "cell_type": "code",
      "source": [
        "# The basics\n",
        "# creating an array and checking it's basic features.\n",
        "arr = np.array([1, 2, 3, 4, 5])\n",
        "print(arr)\n",
        "print(arr.shape)\n",
        "print(arr.size)\n",
        "print(arr.ndim)\n",
        "print(arr.dtype)\n",
        "print(type(arr))"
      ],
      "metadata": {
        "colab": {
          "base_uri": "https://localhost:8080/"
        },
        "id": "sF9ZNy02Bl04",
        "outputId": "9d94c094-8292-4691-cfa9-03058503d8c9"
      },
      "execution_count": 3,
      "outputs": [
        {
          "output_type": "stream",
          "name": "stdout",
          "text": [
            "[1 2 3 4 5]\n",
            "(5,)\n",
            "5\n",
            "1\n",
            "int64\n",
            "<class 'numpy.ndarray'>\n"
          ]
        }
      ]
    },
    {
      "cell_type": "code",
      "source": [
        "# using functions to create an arry\n",
        "array = np.arange(-5, 5, 2)\n",
        "print(array)\n",
        "\n",
        "zeros = np.zeros((3,3))\n",
        "print(zeros)\n",
        "\n",
        "ones = np.ones((3,3))\n",
        "print(ones)\n",
        "\n",
        "identity = np.identity(3)\n",
        "print(identity)\n",
        "\n",
        "linspace = np.linspace(0,10, 5)\n",
        "print(linspace)\n",
        "\n",
        "a = np.random.randint(1, 10, size=(5,5))\n",
        "print(a)\n",
        "\n",
        "b = np.random.rand(5,5)\n",
        "print(b)\n",
        "\n",
        "c = np.random.random_sample(array.shape)\n",
        "print(c)"
      ],
      "metadata": {
        "colab": {
          "base_uri": "https://localhost:8080/"
        },
        "id": "-SV5Ci_KDwXy",
        "outputId": "a38c86f2-8e17-4cc3-e9a2-5e5bad67e0df"
      },
      "execution_count": 43,
      "outputs": [
        {
          "output_type": "stream",
          "name": "stdout",
          "text": [
            "[-5 -3 -1  1  3]\n",
            "[[0. 0. 0.]\n",
            " [0. 0. 0.]\n",
            " [0. 0. 0.]]\n",
            "[[1. 1. 1.]\n",
            " [1. 1. 1.]\n",
            " [1. 1. 1.]]\n",
            "[[1. 0. 0.]\n",
            " [0. 1. 0.]\n",
            " [0. 0. 1.]]\n",
            "[ 0.   2.5  5.   7.5 10. ]\n",
            "[[6 4 4 4 1]\n",
            " [6 1 7 3 4]\n",
            " [1 1 8 3 7]\n",
            " [2 2 4 4 6]\n",
            " [8 1 9 3 5]]\n",
            "[[0.8473779  0.43225299 0.90624181 0.10044228 0.04027874]\n",
            " [0.1577938  0.63689964 0.28946342 0.3862667  0.94805746]\n",
            " [0.39963841 0.57488759 0.80444907 0.17761318 0.67296946]\n",
            " [0.22942708 0.45778866 0.35196292 0.39253415 0.36534943]\n",
            " [0.32119441 0.85557258 0.18640821 0.5723081  0.63098334]]\n",
            "[0.84496128 0.35111496 0.86710593 0.9252786  0.12684984]\n"
          ]
        }
      ]
    },
    {
      "cell_type": "code",
      "source": [
        "# using alike function\n",
        "array = np.array([[1,2,3,4,5],\n",
        "                  [6,7,8,9,10],\n",
        "                  [11,12,13,14,15]\n",
        "                  ])\n",
        "alikearray = np.full_like(array, 5)\n",
        "print(alikearray)"
      ],
      "metadata": {
        "colab": {
          "base_uri": "https://localhost:8080/"
        },
        "id": "POnSEwiUE8GO",
        "outputId": "05aa3eaa-1c05-487b-ff17-ca35215f338b"
      },
      "execution_count": 19,
      "outputs": [
        {
          "output_type": "stream",
          "name": "stdout",
          "text": [
            "[[5 5 5 5 5]\n",
            " [5 5 5 5 5]\n",
            " [5 5 5 5 5]]\n"
          ]
        }
      ]
    },
    {
      "cell_type": "code",
      "source": [
        "# Accesing elements \n",
        "a = np.array([[1,2,3,4,5],\n",
        "              [6,7,8,9,10],\n",
        "              [11,12,13,14,15]\n",
        "                  ])\n",
        "print(a)\n",
        "print(a[0])\n",
        "print(a[2,3])\n",
        "a[2,3] = 999\n",
        "print(a[2,3])\n",
        "print(a)\n",
        "\n"
      ],
      "metadata": {
        "colab": {
          "base_uri": "https://localhost:8080/"
        },
        "id": "ieBAvGz4HGMP",
        "outputId": "a16aa3ae-a568-4191-c956-26d32033bba1"
      },
      "execution_count": 25,
      "outputs": [
        {
          "output_type": "stream",
          "name": "stdout",
          "text": [
            "[[ 1  2  3  4  5]\n",
            " [ 6  7  8  9 10]\n",
            " [11 12 13 14 15]]\n",
            "[1 2 3 4 5]\n",
            "14\n",
            "999\n",
            "[[  1   2   3   4   5]\n",
            " [  6   7   8   9  10]\n",
            " [ 11  12  13 999  15]]\n"
          ]
        }
      ]
    },
    {
      "cell_type": "code",
      "source": [
        "# combinening ndarrays\n",
        "zeros = np.zeros((3,3))\n",
        "ones = np.ones((3,3))\n",
        "zeros_ones = np.concatenate((zeros, ones), axis = 0)\n",
        "print(zeros_ones)\n",
        "\n",
        "zeros = np.zeros((3,3))\n",
        "ones = np.ones((3,3))\n",
        "zeros_ones = np.concatenate((zeros, ones), axis = 1)\n",
        "print(zeros_ones)"
      ],
      "metadata": {
        "colab": {
          "base_uri": "https://localhost:8080/"
        },
        "id": "1pDuiw40IFt0",
        "outputId": "26ac0240-2826-411d-ef25-6c7ce315b331"
      },
      "execution_count": 33,
      "outputs": [
        {
          "output_type": "stream",
          "name": "stdout",
          "text": [
            "[[0. 0. 0.]\n",
            " [0. 0. 0.]\n",
            " [0. 0. 0.]\n",
            " [1. 1. 1.]\n",
            " [1. 1. 1.]\n",
            " [1. 1. 1.]]\n",
            "[[0. 0. 0. 1. 1. 1.]\n",
            " [0. 0. 0. 1. 1. 1.]\n",
            " [0. 0. 0. 1. 1. 1.]]\n"
          ]
        }
      ]
    },
    {
      "cell_type": "code",
      "source": [
        "# reshaping the array\n",
        "\n",
        "a = np.random.randint(1, 10, size=(8,8))\n",
        "print(a)\n",
        "\n",
        "b = a.reshape(2,32)\n",
        "print(b)\n",
        "\n",
        "c = a.reshape(16,4)\n",
        "print(c)\n",
        "\n",
        "d = a.reshape(4,16)\n",
        "print(d)\n",
        "\n",
        "e = a.reshape(-1)\n",
        "print(e)\n",
        " \n",
        "f = a.reshape(4, -1)     #important -1 means it takes own axis that is compatable.\n",
        "print(f)\n",
        "\n",
        "g = a.reshape(-1, 4)\n",
        "print(g)"
      ],
      "metadata": {
        "colab": {
          "base_uri": "https://localhost:8080/"
        },
        "id": "OkybPoeXI4NH",
        "outputId": "f79acca1-beda-47a5-e544-e67a8fd4c3f5"
      },
      "execution_count": 58,
      "outputs": [
        {
          "output_type": "stream",
          "name": "stdout",
          "text": [
            "[[8 4 9 9 4 7 1 9]\n",
            " [9 7 1 1 3 8 7 3]\n",
            " [9 8 8 9 4 1 8 3]\n",
            " [3 8 6 6 5 8 5 5]\n",
            " [9 9 4 3 6 3 8 7]\n",
            " [2 6 3 1 2 3 2 5]\n",
            " [6 5 3 9 3 6 1 7]\n",
            " [8 2 5 5 4 5 3 1]]\n",
            "[[8 4 9 9 4 7 1 9 9 7 1 1 3 8 7 3 9 8 8 9 4 1 8 3 3 8 6 6 5 8 5 5]\n",
            " [9 9 4 3 6 3 8 7 2 6 3 1 2 3 2 5 6 5 3 9 3 6 1 7 8 2 5 5 4 5 3 1]]\n",
            "[[8 4 9 9]\n",
            " [4 7 1 9]\n",
            " [9 7 1 1]\n",
            " [3 8 7 3]\n",
            " [9 8 8 9]\n",
            " [4 1 8 3]\n",
            " [3 8 6 6]\n",
            " [5 8 5 5]\n",
            " [9 9 4 3]\n",
            " [6 3 8 7]\n",
            " [2 6 3 1]\n",
            " [2 3 2 5]\n",
            " [6 5 3 9]\n",
            " [3 6 1 7]\n",
            " [8 2 5 5]\n",
            " [4 5 3 1]]\n",
            "[[8 4 9 9 4 7 1 9 9 7 1 1 3 8 7 3]\n",
            " [9 8 8 9 4 1 8 3 3 8 6 6 5 8 5 5]\n",
            " [9 9 4 3 6 3 8 7 2 6 3 1 2 3 2 5]\n",
            " [6 5 3 9 3 6 1 7 8 2 5 5 4 5 3 1]]\n",
            "[8 4 9 9 4 7 1 9 9 7 1 1 3 8 7 3 9 8 8 9 4 1 8 3 3 8 6 6 5 8 5 5 9 9 4 3 6\n",
            " 3 8 7 2 6 3 1 2 3 2 5 6 5 3 9 3 6 1 7 8 2 5 5 4 5 3 1]\n",
            "[[8 4 9 9 4 7 1 9 9 7 1 1 3 8 7 3]\n",
            " [9 8 8 9 4 1 8 3 3 8 6 6 5 8 5 5]\n",
            " [9 9 4 3 6 3 8 7 2 6 3 1 2 3 2 5]\n",
            " [6 5 3 9 3 6 1 7 8 2 5 5 4 5 3 1]]\n",
            "[[8 4 9 9]\n",
            " [4 7 1 9]\n",
            " [9 7 1 1]\n",
            " [3 8 7 3]\n",
            " [9 8 8 9]\n",
            " [4 1 8 3]\n",
            " [3 8 6 6]\n",
            " [5 8 5 5]\n",
            " [9 9 4 3]\n",
            " [6 3 8 7]\n",
            " [2 6 3 1]\n",
            " [2 3 2 5]\n",
            " [6 5 3 9]\n",
            " [3 6 1 7]\n",
            " [8 2 5 5]\n",
            " [4 5 3 1]]\n"
          ]
        }
      ]
    },
    {
      "cell_type": "code",
      "source": [
        "# convert a 1D array into a 2D array (how to add a new axis to an array)\n",
        "a = np.arange(10)\n",
        "print(a.shape)\n",
        "print(a)\n",
        "\n",
        "b = a[np.newaxis, :]\n",
        "print(b.shape)\n",
        "print(b)"
      ],
      "metadata": {
        "colab": {
          "base_uri": "https://localhost:8080/"
        },
        "id": "ouRWz0rCK6IW",
        "outputId": "7a95a971-d773-4f8c-dcf9-429ef135bb74"
      },
      "execution_count": 62,
      "outputs": [
        {
          "output_type": "stream",
          "name": "stdout",
          "text": [
            "(10,)\n",
            "[0 1 2 3 4 5 6 7 8 9]\n",
            "(1, 10)\n",
            "[[0 1 2 3 4 5 6 7 8 9]]\n"
          ]
        }
      ]
    },
    {
      "cell_type": "code",
      "source": [
        " # indexing and slicing\n",
        "a = np.random.randint(1, 10, size=(8,8))\n",
        "print(a)\n",
        "print(np.unique(a))\n",
        "\n",
        "print(a[0])     #first row\n",
        "print(a[0,:])   #first row\n",
        "print(a[:,0])   #first column\n",
        "\n",
        "print(a[2, 3:6]) # 3rd row, from col-3 to col-5\n",
        "print(a[2:6, 1:4])  # from row-3 to row-5 and col-2 to col-3\n",
        "a[2:6, 1:4]  = 0 \n",
        "print(a[:])\n",
        "\n",
        "print(a[a<5])    # all the elements in tha array less than 5\n",
        "\n",
        "b = a < 5        # marks true if conditon is  satisfied else flase at that point\n",
        "print(b)\n",
        "\n",
        "a[b] = 999     # where ever you find element less that 5 replace with 999 \"This is called masking\"\n",
        "print(a)\n",
        "\n",
        "print(np.unique(a))\n"
      ],
      "metadata": {
        "colab": {
          "base_uri": "https://localhost:8080/"
        },
        "id": "y8uZTJOYTY7A",
        "outputId": "fbf61501-5fc9-4798-be11-d1ee40a5b222"
      },
      "execution_count": 90,
      "outputs": [
        {
          "output_type": "stream",
          "name": "stdout",
          "text": [
            "[[6 9 7 2 7 8 6 9]\n",
            " [6 5 3 8 4 9 6 6]\n",
            " [9 6 8 7 5 5 2 8]\n",
            " [5 9 7 5 7 6 9 1]\n",
            " [7 7 8 1 5 8 9 5]\n",
            " [9 1 1 3 3 6 2 7]\n",
            " [6 6 6 3 4 1 9 5]\n",
            " [6 3 4 1 7 7 9 2]]\n",
            "[1 2 3 4 5 6 7 8 9]\n",
            "[6 9 7 2 7 8 6 9]\n",
            "[6 9 7 2 7 8 6 9]\n",
            "[6 6 9 5 7 9 6 6]\n",
            "[7 5 5]\n",
            "[[6 8 7]\n",
            " [9 7 5]\n",
            " [7 8 1]\n",
            " [1 1 3]]\n",
            "[[6 9 7 2 7 8 6 9]\n",
            " [6 5 3 8 4 9 6 6]\n",
            " [9 0 0 0 5 5 2 8]\n",
            " [5 0 0 0 7 6 9 1]\n",
            " [7 0 0 0 5 8 9 5]\n",
            " [9 0 0 0 3 6 2 7]\n",
            " [6 6 6 3 4 1 9 5]\n",
            " [6 3 4 1 7 7 9 2]]\n",
            "[2 3 4 0 0 0 2 0 0 0 1 0 0 0 0 0 0 3 2 3 4 1 3 4 1 2]\n",
            "[[False False False  True False False False False]\n",
            " [False False  True False  True False False False]\n",
            " [False  True  True  True False False  True False]\n",
            " [False  True  True  True False False False  True]\n",
            " [False  True  True  True False False False False]\n",
            " [False  True  True  True  True False  True False]\n",
            " [False False False  True  True  True False False]\n",
            " [False  True  True  True False False False  True]]\n",
            "[[  6   9   7 999   7   8   6   9]\n",
            " [  6   5 999   8 999   9   6   6]\n",
            " [  9 999 999 999   5   5 999   8]\n",
            " [  5 999 999 999   7   6   9 999]\n",
            " [  7 999 999 999   5   8   9   5]\n",
            " [  9 999 999 999 999   6 999   7]\n",
            " [  6   6   6 999 999 999   9   5]\n",
            " [  6 999 999 999   7   7   9 999]]\n",
            "[  5   6   7   8   9 999]\n"
          ]
        }
      ]
    },
    {
      "cell_type": "code",
      "source": [
        "# array opertations\n",
        "a  = np.arange(25).reshape((5,5))\n",
        "print(a)\n",
        "\n",
        "b = a.copy()\n",
        "\n",
        "print(a + 5)\n",
        "print(a - 5)\n",
        "print(a * 5)\n",
        "print(a / 5)                 # This is called \"Broadcasting\". In simple word opertaions are done element wise\n",
        "print(a ** 5)\n",
        "print(a // 5)\n",
        "print(a % 5)\n",
        "\n",
        "print(a+b)\n",
        "print(a-b)                    \n",
        "print(a*b)\n",
        "print(a/b)\n",
        "print(a ** b)\n",
        "print(a // b)              # The error below says we have divison by zero. But the operation gets performed\n",
        "print(a % b)\n"
      ],
      "metadata": {
        "colab": {
          "base_uri": "https://localhost:8080/"
        },
        "id": "XsYo-H3IUF_O",
        "outputId": "ef7f7abb-5d95-4f85-a89c-c34b32b0b235"
      },
      "execution_count": 81,
      "outputs": [
        {
          "output_type": "stream",
          "name": "stdout",
          "text": [
            "[[ 0  1  2  3  4]\n",
            " [ 5  6  7  8  9]\n",
            " [10 11 12 13 14]\n",
            " [15 16 17 18 19]\n",
            " [20 21 22 23 24]]\n",
            "[[ 5  6  7  8  9]\n",
            " [10 11 12 13 14]\n",
            " [15 16 17 18 19]\n",
            " [20 21 22 23 24]\n",
            " [25 26 27 28 29]]\n",
            "[[-5 -4 -3 -2 -1]\n",
            " [ 0  1  2  3  4]\n",
            " [ 5  6  7  8  9]\n",
            " [10 11 12 13 14]\n",
            " [15 16 17 18 19]]\n",
            "[[  0   5  10  15  20]\n",
            " [ 25  30  35  40  45]\n",
            " [ 50  55  60  65  70]\n",
            " [ 75  80  85  90  95]\n",
            " [100 105 110 115 120]]\n",
            "[[0.  0.2 0.4 0.6 0.8]\n",
            " [1.  1.2 1.4 1.6 1.8]\n",
            " [2.  2.2 2.4 2.6 2.8]\n",
            " [3.  3.2 3.4 3.6 3.8]\n",
            " [4.  4.2 4.4 4.6 4.8]]\n",
            "[[      0       1      32     243    1024]\n",
            " [   3125    7776   16807   32768   59049]\n",
            " [ 100000  161051  248832  371293  537824]\n",
            " [ 759375 1048576 1419857 1889568 2476099]\n",
            " [3200000 4084101 5153632 6436343 7962624]]\n",
            "[[0 0 0 0 0]\n",
            " [1 1 1 1 1]\n",
            " [2 2 2 2 2]\n",
            " [3 3 3 3 3]\n",
            " [4 4 4 4 4]]\n",
            "[[0 1 2 3 4]\n",
            " [0 1 2 3 4]\n",
            " [0 1 2 3 4]\n",
            " [0 1 2 3 4]\n",
            " [0 1 2 3 4]]\n",
            "[[ 0  2  4  6  8]\n",
            " [10 12 14 16 18]\n",
            " [20 22 24 26 28]\n",
            " [30 32 34 36 38]\n",
            " [40 42 44 46 48]]\n",
            "[[0 0 0 0 0]\n",
            " [0 0 0 0 0]\n",
            " [0 0 0 0 0]\n",
            " [0 0 0 0 0]\n",
            " [0 0 0 0 0]]\n",
            "[[  0   1   4   9  16]\n",
            " [ 25  36  49  64  81]\n",
            " [100 121 144 169 196]\n",
            " [225 256 289 324 361]\n",
            " [400 441 484 529 576]]\n",
            "[[nan  1.  1.  1.  1.]\n",
            " [ 1.  1.  1.  1.  1.]\n",
            " [ 1.  1.  1.  1.  1.]\n",
            " [ 1.  1.  1.  1.  1.]\n",
            " [ 1.  1.  1.  1.  1.]]\n",
            "[[                   1                    1                    4\n",
            "                    27                  256]\n",
            " [                3125                46656               823543\n",
            "              16777216            387420489]\n",
            " [         10000000000         285311670611        8916100448256\n",
            "       302875106592253    11112006825558016]\n",
            " [  437893890380859375                    0 -2863221430593058543\n",
            "   -497033925936021504  6353754964178307979]\n",
            " [-2101438300051996672 -1595931050845505211  4981753131911086080\n",
            "   8450172506621111015                    0]]\n",
            "[[0 1 1 1 1]\n",
            " [1 1 1 1 1]\n",
            " [1 1 1 1 1]\n",
            " [1 1 1 1 1]\n",
            " [1 1 1 1 1]]\n",
            "[[0 0 0 0 0]\n",
            " [0 0 0 0 0]\n",
            " [0 0 0 0 0]\n",
            " [0 0 0 0 0]\n",
            " [0 0 0 0 0]]\n"
          ]
        },
        {
          "output_type": "stream",
          "name": "stderr",
          "text": [
            "<ipython-input-81-135d9a1dda91>:18: RuntimeWarning: invalid value encountered in true_divide\n",
            "  print(a/b)\n",
            "<ipython-input-81-135d9a1dda91>:20: RuntimeWarning: divide by zero encountered in floor_divide\n",
            "  print(a // b)              # The error below says we have divison by zero. But the operation gets performed\n",
            "<ipython-input-81-135d9a1dda91>:21: RuntimeWarning: divide by zero encountered in remainder\n",
            "  print(a % b)\n"
          ]
        }
      ]
    },
    {
      "cell_type": "code",
      "source": [
        "# basic functions\n",
        "a  = np.arange(25).reshape((5,5))\n",
        "print(a)\n",
        "\n",
        "print(a.max())\n",
        "print(a.max(axis=1))\n",
        "print(a.max(axis=0))\n",
        "\n",
        "print(a.min())\n",
        "print(a.min(axis=1))\n",
        "print(a.min(axis=0))        #axis = 0  ==> vertical\n",
        "                            #axis = 1  ==> Horizontal \n",
        "print(a.sum())\n",
        "print(a.sum(axis=0))\n",
        "print(a.sum(axis=1))\n"
      ],
      "metadata": {
        "colab": {
          "base_uri": "https://localhost:8080/"
        },
        "id": "pdIiGPXiX-a3",
        "outputId": "c56b9306-c027-4663-ac90-d2d9d4ab0149"
      },
      "execution_count": 87,
      "outputs": [
        {
          "output_type": "stream",
          "name": "stdout",
          "text": [
            "[[ 0  1  2  3  4]\n",
            " [ 5  6  7  8  9]\n",
            " [10 11 12 13 14]\n",
            " [15 16 17 18 19]\n",
            " [20 21 22 23 24]]\n",
            "24\n",
            "[ 4  9 14 19 24]\n",
            "[20 21 22 23 24]\n",
            "0\n",
            "[ 0  5 10 15 20]\n",
            "[0 1 2 3 4]\n",
            "300\n",
            "[50 55 60 65 70]\n",
            "[ 10  35  60  85 110]\n"
          ]
        }
      ]
    },
    {
      "cell_type": "code",
      "source": [],
      "metadata": {
        "id": "fN06CL0iZkO4"
      },
      "execution_count": null,
      "outputs": []
    }
  ]
}